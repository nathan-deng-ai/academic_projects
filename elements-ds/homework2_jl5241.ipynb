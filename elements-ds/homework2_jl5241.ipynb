{
 "cells": [
  {
   "cell_type": "markdown",
   "metadata": {},
   "source": [
    "# Homework 2\n",
    "\n",
    "### Due: Sun Oct. 21 @ 9pm"
   ]
  },
  {
   "cell_type": "markdown",
   "metadata": {},
   "source": [
    "In this homework we'll perform a hypothesis test and clean some data before training a regression model.\n",
    "\n",
    "\n",
    "## Instructions\n",
    "\n",
    "Follow the comments below and fill in the blanks (____) to complete."
   ]
  },
  {
   "cell_type": "code",
   "execution_count": 6,
   "metadata": {},
   "outputs": [],
   "source": [
    "import pandas as pd\n",
    "import numpy as np\n",
    "from pprint import pprint\n",
    "import seaborn as sns\n",
    "import sklearn\n",
    "import matplotlib.pylab as plt\n",
    "\n",
    "# To suppress FutureWarnings\n",
    "import warnings\n",
    "warnings.simplefilter(action='ignore', category=FutureWarning)\n",
    "warnings.simplefilter(action='ignore', category=DeprecationWarning)\n",
    "\n",
    "%matplotlib inline"
   ]
  },
  {
   "cell_type": "markdown",
   "metadata": {},
   "source": [
    "## Part 1: Hypothesis Testing with an A/B test"
   ]
  },
  {
   "cell_type": "markdown",
   "metadata": {},
   "source": [
    "Suppose we work at a large company that is developing online data science tools. Currently the tool has interface type A but we'd like to know if using interface tool B might be more efficient.\n",
    "To measure this, we'll look at length of active work on a project (aka project length).\n",
    "We'll perform an A/B test where half of the projects will use interface A and half will use interface B."
   ]
  },
  {
   "cell_type": "code",
   "execution_count": 7,
   "metadata": {},
   "outputs": [
    {
     "name": "stdout",
     "output_type": "stream",
     "text": [
      "<class 'pandas.core.frame.DataFrame'>\n",
      "RangeIndex: 1000 entries, 0 to 999\n",
      "Data columns (total 2 columns):\n",
      "lengths_A    1000 non-null float64\n",
      "lengths_B    1000 non-null float64\n",
      "dtypes: float64(2)\n",
      "memory usage: 15.7 KB\n"
     ]
    }
   ],
   "source": [
    "# read in project lengths from '../data/project_lengths'\n",
    "# there should be 1000 observations for both interfaces\n",
    "df_project = pd.read_csv('../data/project_lengths.csv')\n",
    "df_project.info()"
   ]
  },
  {
   "cell_type": "code",
   "execution_count": 9,
   "metadata": {},
   "outputs": [
    {
     "data": {
      "text/plain": [
       "-1.5819526645395978"
      ]
     },
     "execution_count": 9,
     "metadata": {},
     "output_type": "execute_result"
    }
   ],
   "source": [
    "# calculate the difference in mean project length between interface A and B\n",
    "# for consistency, subtracting A from B\n",
    "# hint: this number should be negative here (could interpret as faster)\n",
    "mean_A = df_project['lengths_A'].mean()\n",
    "mean_B = df_project['lengths_B'].mean()\n",
    "observed_mean_diff = mean_B - mean_A\n",
    "observed_mean_diff"
   ]
  },
  {
   "cell_type": "code",
   "execution_count": 32,
   "metadata": {},
   "outputs": [],
   "source": [
    "# we'll perform a permutation test to see how significant this result is\n",
    "# generate 10000 random permutation samples of mean difference\n",
    "# hint: use np.random.permutation\n",
    "rand_mean_diffs = []\n",
    "n_samples = 10000\n",
    "combined_times = np.concatenate([df_project.lengths_A.values, df_project.lengths_B.values])\n",
    "n_A = len(df_project['lengths_A'])# number of observations for page A\n",
    "for i in range(n_samples):\n",
    "    rand_perm = np.random.permutation(combined_times)\n",
    "    rand_mean_A = rand_perm[:n_A].mean()\n",
    "    rand_mean_B = rand_perm[n_A:].mean()\n",
    "    rand_mean_diffs.append(rand_mean_B-rand_mean_A)"
   ]
  },
  {
   "cell_type": "code",
   "execution_count": 58,
   "metadata": {},
   "outputs": [
    {
     "data": {
      "image/png": "[encoded data removed]",
      "text/plain": [
       "<Figure size 432x288 with 1 Axes>"
      ]
     },
     "metadata": {
      "needs_background": "light"
     },
     "output_type": "display_data"
    }
   ],
   "source": [
    "# use seaborn to plot the distribution of mean differences\n",
    "# use plt.vlines to plot a line at our observed difference in means (ymin=0,ymax=0.5)\n",
    "ax = sns.distplot(rand_mean_diffs)\n",
    "_ = plt.vlines(observed_mean_diff, ymin=0,ymax=.5, color='r')"
   ]
  },
  {
   "cell_type": "code",
   "execution_count": 40,
   "metadata": {},
   "outputs": [
    {
     "data": {
      "text/plain": [
       "-2.005881261649851"
      ]
     },
     "execution_count": 40,
     "metadata": {},
     "output_type": "execute_result"
    }
   ],
   "source": [
    "# the plot should seem to indicate significance, but let's calculate a one-tailed p_value using rand_mean_diffs\n",
    "p_value = (observed_mean_diff - np.mean(rand_mean_diffs)) / np.std(rand_mean_diffs)\n",
    "p_value"
   ]
  },
  {
   "cell_type": "code",
   "execution_count": 41,
   "metadata": {},
   "outputs": [
    {
     "data": {
      "text/plain": [
       "0.0903782039609031"
      ]
     },
     "execution_count": 41,
     "metadata": {},
     "output_type": "execute_result"
    }
   ],
   "source": [
    "# we can calculate the effect size of our observation\n",
    "# this is the absolute value of the observed_mean_diff divided by the standard deviation of the combined_times\n",
    "observed_effect_size = abs(observed_mean_diff)/np.std(combined_times)\n",
    "observed_effect_size"
   ]
  },
  {
   "cell_type": "code",
   "execution_count": 46,
   "metadata": {},
   "outputs": [],
   "source": [
    "# we'll use this for the next 2 steps\n",
    "from statsmodels.stats.power import tt_ind_solve_power"
   ]
  },
  {
   "cell_type": "code",
   "execution_count": 49,
   "metadata": {},
   "outputs": [
    {
     "data": {
      "text/plain": [
       "0.5239497439166989"
      ]
     },
     "execution_count": 49,
     "metadata": {},
     "output_type": "execute_result"
    }
   ],
   "source": [
    "# what is the power of our current experiment?\n",
    "# e.g. how likely is it that correctly decided that B is better than A \n",
    "#   given the observed effect size, number of observations and alpha level we used above\n",
    "# since these are independent samples we can use tt_ind_solve_power\n",
    "# hint: the power we get should not be good\n",
    "power = tt_ind_solve_power(effect_size = observed_effect_size,  # what we just calculated\n",
    "                           nobs1 = n_A,         # the number of observations in A\n",
    "                           alpha = 0.05,        # our alpha level\n",
    "                           power = None,        # what we're interested in\n",
    "                           ratio = 1            # the ratio of number of observations of A and B\n",
    "                          )\n",
    "power"
   ]
  },
  {
   "cell_type": "code",
   "execution_count": 50,
   "metadata": {},
   "outputs": [
    {
     "data": {
      "text/plain": [
       "2573.7171120419607"
      ]
     },
     "execution_count": 50,
     "metadata": {},
     "output_type": "execute_result"
    }
   ],
   "source": [
    "# how many observations for each of A and B would we need to get a power of .9\n",
    "#   for our observed effect size and alpha level\n",
    "# eg. having a 90% change of correctly deciding B is better than A\n",
    "n_obs_A = tt_ind_solve_power(effect_size = observed_effect_size,  # what we just calculated\n",
    "                           nobs1 = None,         # the number of observations in A\n",
    "                           alpha = 0.05,        # our alpha level\n",
    "                           power = .9,        # what we're interested in\n",
    "                           ratio = 1            # the ratio of number of observations of A and B\n",
    "                          )\n",
    "n_obs_A"
   ]
  },
  {
   "cell_type": "markdown",
   "metadata": {},
   "source": [
    "## Part 2: Data Cleaning and Regression"
   ]
  },
  {
   "cell_type": "markdown",
   "metadata": {},
   "source": [
    "### Data Preparation and Exploration"
   ]
  },
  {
   "cell_type": "markdown",
   "metadata": {},
   "source": [
    "This data is provided by World Bank Open Data https://data.worldbank.org/, processed as in Homework 1.\n",
    "\n",
    "We will be performing regression with respect to GDP and classification with respect to Income Group.\n",
    "To do that we will first need to do a little more data prep."
   ]
  },
  {
   "cell_type": "code",
   "execution_count": 61,
   "metadata": {},
   "outputs": [
    {
     "name": "stdout",
     "output_type": "stream",
     "text": [
      "<class 'pandas.core.frame.DataFrame'>\n",
      "RangeIndex: 217 entries, 0 to 216\n",
      "Data columns (total 15 columns):\n",
      "country_code                           217 non-null object\n",
      "short_name                             217 non-null object\n",
      "region                                 217 non-null object\n",
      "income_group                           217 non-null object\n",
      "access_to_electricity                  217 non-null float64\n",
      "gdp                                    193 non-null float64\n",
      "population_density                     215 non-null float64\n",
      "population_total                       216 non-null float64\n",
      "unemployment                           113 non-null float64\n",
      "region_europe                          217 non-null int64\n",
      "region_latin_america_and_caribbean     217 non-null int64\n",
      "region_middle_east_and_north_africa    217 non-null int64\n",
      "region_north_america                   217 non-null int64\n",
      "region_south_asia                      217 non-null int64\n",
      "region_subsaharan_africa               217 non-null int64\n",
      "dtypes: float64(5), int64(6), object(4)\n",
      "memory usage: 25.5+ KB\n"
     ]
    }
   ],
   "source": [
    "# read in the data\n",
    "df_country = pd.read_csv('../data/country_electricity_by_region.csv')\n",
    "\n",
    "# rename columns for ease of reference\n",
    "columns = ['country_code','short_name','region','income_group','access_to_electricity','gdp','population_density',\n",
    "           'population_total','unemployment','region_europe','region_latin_america_and_caribbean',\n",
    "           'region_middle_east_and_north_africa','region_north_america','region_south_asia',\n",
    "           'region_subsaharan_africa']\n",
    "\n",
    "df_country.columns = columns\n",
    "df_country.info()"
   ]
  },
  {
   "cell_type": "code",
   "execution_count": 62,
   "metadata": {},
   "outputs": [],
   "source": [
    "# create a dummy variable 'gdp_missing' to indicate where 'gdp' is null\n",
    "df_country['gdp_missing'] = df_country['gdp'].isnull()"
   ]
  },
  {
   "cell_type": "code",
   "execution_count": 75,
   "metadata": {},
   "outputs": [
    {
     "data": {
      "text/plain": [
       "income_group\n",
       "High income            18\n",
       "Low income              3\n",
       "Lower middle income     1\n",
       "Upper middle income     2\n",
       "Name: gdp, dtype: int64"
      ]
     },
     "execution_count": 75,
     "metadata": {},
     "output_type": "execute_result"
    }
   ],
   "source": [
    "# use groupby to find the number of missing gpd by income_level\n",
    "# write a lambda function to apply to the grouped data, counting the number of nulls per group\n",
    "df_country.groupby('income_group').gdp.apply(lambda x: sum(x.isnull()))"
   ]
  },
  {
   "cell_type": "code",
   "execution_count": 79,
   "metadata": {},
   "outputs": [],
   "source": [
    "# fill in missing gdp values according to income_group mean\n",
    "# to do this, group by income_group \n",
    "# then apply a lambda function to the gdp column that uses the fillna function, filling with the mean\n",
    "# inplace is not available here, so assign back into the gdp column\n",
    "df_country.gdp = df_country.groupby('income_group').gdp.transform(lambda x: x.fillna(x.mean()))"
   ]
  },
  {
   "cell_type": "code",
   "execution_count": 80,
   "metadata": {},
   "outputs": [],
   "source": [
    "# assert that there are no longer any missing values in gdp\n",
    "assert sum(df_country.gdp.isnull()) ==0 "
   ]
  },
  {
   "cell_type": "code",
   "execution_count": 82,
   "metadata": {},
   "outputs": [],
   "source": [
    "# create 'populiation_density_missing' dummy variable\n",
    "df_country['population_density_missing'] = df_country['population_density'].isnull()"
   ]
  },
  {
   "cell_type": "code",
   "execution_count": 83,
   "metadata": {},
   "outputs": [],
   "source": [
    "# fill in missing population_density with median, grouping by region\n",
    "df_country.population_density = df_country.groupby('region').population_density.transform(lambda x: x.fillna(x.median()))"
   ]
  },
  {
   "cell_type": "code",
   "execution_count": 86,
   "metadata": {},
   "outputs": [],
   "source": [
    "# create a normalized 'gdp_zscore' column\n",
    "from scipy import stats\n",
    "df_country['gdp_zscore'] = stats.zscore(df_country['gdp'])"
   ]
  },
  {
   "cell_type": "code",
   "execution_count": 88,
   "metadata": {},
   "outputs": [
    {
     "data": {
      "image/png": "[encoded data removed]",
      "text/plain": [
       "<Figure size 864x288 with 2 Axes>"
      ]
     },
     "metadata": {
      "needs_background": "light"
     },
     "output_type": "display_data"
    }
   ],
   "source": [
    "# use seaborn to create a distplot (with rugplot indicators) and a boxplot of gdp_zscores to visualize outliers\n",
    "fig, ax = plt.subplots(1,2,figsize=(12,4))\n",
    "_ = sns.distplot(df_country.gdp_zscore,ax=ax[0],rug=True)\n",
    "_ = sns.boxplot(df_country.gdp_zscore,ax=ax[1])"
   ]
  },
  {
   "cell_type": "code",
   "execution_count": 101,
   "metadata": {},
   "outputs": [
    {
     "data": {
      "text/html": [
       "<div>\n",
       "<style scoped>\n",
       "    .dataframe tbody tr th:only-of-type {\n",
       "        vertical-align: middle;\n",
       "    }\n",
       "\n",
       "    .dataframe tbody tr th {\n",
       "        vertical-align: top;\n",
       "    }\n",
       "\n",
       "    .dataframe thead th {\n",
       "        text-align: right;\n",
       "    }\n",
       "</style>\n",
       "<table border=\"1\" class=\"dataframe\">\n",
       "  <thead>\n",
       "    <tr style=\"text-align: right;\">\n",
       "      <th></th>\n",
       "      <th>country_code</th>\n",
       "      <th>gdp_zscore</th>\n",
       "    </tr>\n",
       "  </thead>\n",
       "  <tbody>\n",
       "    <tr>\n",
       "      <th>203</th>\n",
       "      <td>USA</td>\n",
       "      <td>11.552402</td>\n",
       "    </tr>\n",
       "    <tr>\n",
       "      <th>36</th>\n",
       "      <td>CHN</td>\n",
       "      <td>5.807531</td>\n",
       "    </tr>\n",
       "    <tr>\n",
       "      <th>98</th>\n",
       "      <td>JPN</td>\n",
       "      <td>4.035723</td>\n",
       "    </tr>\n",
       "    <tr>\n",
       "      <th>50</th>\n",
       "      <td>DEU</td>\n",
       "      <td>2.365951</td>\n",
       "    </tr>\n",
       "    <tr>\n",
       "      <th>64</th>\n",
       "      <td>FRA</td>\n",
       "      <td>1.717156</td>\n",
       "    </tr>\n",
       "    <tr>\n",
       "      <th>68</th>\n",
       "      <td>GBR</td>\n",
       "      <td>1.626685</td>\n",
       "    </tr>\n",
       "    <tr>\n",
       "      <th>26</th>\n",
       "      <td>BRA</td>\n",
       "      <td>1.479186</td>\n",
       "    </tr>\n",
       "    <tr>\n",
       "      <th>89</th>\n",
       "      <td>IND</td>\n",
       "      <td>1.264916</td>\n",
       "    </tr>\n",
       "    <tr>\n",
       "      <th>95</th>\n",
       "      <td>ITA</td>\n",
       "      <td>1.201040</td>\n",
       "    </tr>\n",
       "    <tr>\n",
       "      <th>32</th>\n",
       "      <td>CAN</td>\n",
       "      <td>1.007785</td>\n",
       "    </tr>\n",
       "  </tbody>\n",
       "</table>\n",
       "</div>"
      ],
      "text/plain": [
       "    country_code  gdp_zscore\n",
       "203          USA   11.552402\n",
       "36           CHN    5.807531\n",
       "98           JPN    4.035723\n",
       "50           DEU    2.365951\n",
       "64           FRA    1.717156\n",
       "68           GBR    1.626685\n",
       "26           BRA    1.479186\n",
       "89           IND    1.264916\n",
       "95           ITA    1.201040\n",
       "32           CAN    1.007785"
      ]
     },
     "execution_count": 101,
     "metadata": {},
     "output_type": "execute_result"
    }
   ],
   "source": [
    "# print the top 10 country_code and gdp_zscore sorted by gdp_zscore\n",
    "df_country.sort_values('gdp_zscore',ascending=False)[['country_code','gdp_zscore']].head(10)"
   ]
  },
  {
   "cell_type": "code",
   "execution_count": 102,
   "metadata": {},
   "outputs": [],
   "source": [
    "# set a zscore cutoff to remove the top 4 outliers\n",
    "gdp_zscore_cutoff = 2"
   ]
  },
  {
   "cell_type": "code",
   "execution_count": 103,
   "metadata": {},
   "outputs": [],
   "source": [
    "# create a normalized 'population_density_zscore' column\n",
    "df_country['population_density_zscore'] = stats.zscore(df_country['population_density'])"
   ]
  },
  {
   "cell_type": "code",
   "execution_count": 105,
   "metadata": {},
   "outputs": [
    {
     "data": {
      "text/html": [
       "<div>\n",
       "<style scoped>\n",
       "    .dataframe tbody tr th:only-of-type {\n",
       "        vertical-align: middle;\n",
       "    }\n",
       "\n",
       "    .dataframe tbody tr th {\n",
       "        vertical-align: top;\n",
       "    }\n",
       "\n",
       "    .dataframe thead th {\n",
       "        text-align: right;\n",
       "    }\n",
       "</style>\n",
       "<table border=\"1\" class=\"dataframe\">\n",
       "  <thead>\n",
       "    <tr style=\"text-align: right;\">\n",
       "      <th></th>\n",
       "      <th>country_code</th>\n",
       "      <th>population_density_zscore</th>\n",
       "    </tr>\n",
       "  </thead>\n",
       "  <tbody>\n",
       "    <tr>\n",
       "      <th>118</th>\n",
       "      <td>MAC</td>\n",
       "      <td>9.660487</td>\n",
       "    </tr>\n",
       "    <tr>\n",
       "      <th>121</th>\n",
       "      <td>MCO</td>\n",
       "      <td>9.474560</td>\n",
       "    </tr>\n",
       "    <tr>\n",
       "      <th>170</th>\n",
       "      <td>SGP</td>\n",
       "      <td>3.703655</td>\n",
       "    </tr>\n",
       "    <tr>\n",
       "      <th>82</th>\n",
       "      <td>HKG</td>\n",
       "      <td>3.287870</td>\n",
       "    </tr>\n",
       "    <tr>\n",
       "      <th>71</th>\n",
       "      <td>GIB</td>\n",
       "      <td>1.512029</td>\n",
       "    </tr>\n",
       "    <tr>\n",
       "      <th>19</th>\n",
       "      <td>BHR</td>\n",
       "      <td>0.662775</td>\n",
       "    </tr>\n",
       "    <tr>\n",
       "      <th>124</th>\n",
       "      <td>MDV</td>\n",
       "      <td>0.461115</td>\n",
       "    </tr>\n",
       "    <tr>\n",
       "      <th>129</th>\n",
       "      <td>MLT</td>\n",
       "      <td>0.460529</td>\n",
       "    </tr>\n",
       "    <tr>\n",
       "      <th>24</th>\n",
       "      <td>BMU</td>\n",
       "      <td>0.443888</td>\n",
       "    </tr>\n",
       "    <tr>\n",
       "      <th>17</th>\n",
       "      <td>BGD</td>\n",
       "      <td>0.404138</td>\n",
       "    </tr>\n",
       "  </tbody>\n",
       "</table>\n",
       "</div>"
      ],
      "text/plain": [
       "    country_code  population_density_zscore\n",
       "118          MAC                   9.660487\n",
       "121          MCO                   9.474560\n",
       "170          SGP                   3.703655\n",
       "82           HKG                   3.287870\n",
       "71           GIB                   1.512029\n",
       "19           BHR                   0.662775\n",
       "124          MDV                   0.461115\n",
       "129          MLT                   0.460529\n",
       "24           BMU                   0.443888\n",
       "17           BGD                   0.404138"
      ]
     },
     "execution_count": 105,
     "metadata": {},
     "output_type": "execute_result"
    }
   ],
   "source": [
    "# print the top 10 country_code and population_density_zscore sorted by population_density_zscore\n",
    "df_country.sort_values('population_density_zscore',ascending=False)[['country_code','population_density_zscore']].head(10)"
   ]
  },
  {
   "cell_type": "code",
   "execution_count": 107,
   "metadata": {},
   "outputs": [],
   "source": [
    "# set a zscore cutoff to remove the top 5 outliers\n",
    "population_density_zscore_cutoff = 1"
   ]
  },
  {
   "cell_type": "code",
   "execution_count": 108,
   "metadata": {},
   "outputs": [
    {
     "data": {
      "text/plain": [
       "(208, 19)"
      ]
     },
     "execution_count": 108,
     "metadata": {},
     "output_type": "execute_result"
    }
   ],
   "source": [
    "# drop outliers (considering both gdp_zscore and population_density_zscore)\n",
    "df_country = df_country[(df_country.gdp_zscore <gdp_zscore_cutoff) & (df_country.population_density_zscore <population_density_zscore_cutoff)]\n",
    "df_country.shape"
   ]
  },
  {
   "cell_type": "markdown",
   "metadata": {},
   "source": [
    "### Train a Regression Model"
   ]
  },
  {
   "cell_type": "code",
   "execution_count": 147,
   "metadata": {},
   "outputs": [],
   "source": [
    "# create the training set of X with features (population_density, access_to_electricity) \n",
    "# and labels y (gdp)\n",
    "X = df_country[['population_density','access_to_electricity']].values\n",
    "y = df_country.gdp"
   ]
  },
  {
   "cell_type": "code",
   "execution_count": 148,
   "metadata": {},
   "outputs": [],
   "source": [
    "# import and initialize a LinearRegression model using default parameters\n",
    "from sklearn.linear_model import LinearRegression \n",
    "lr = LinearRegression()"
   ]
  },
  {
   "cell_type": "code",
   "execution_count": 149,
   "metadata": {},
   "outputs": [
    {
     "data": {
      "text/plain": [
       "LinearRegression(copy_X=True, fit_intercept=True, n_jobs=1, normalize=False)"
      ]
     },
     "execution_count": 149,
     "metadata": {},
     "output_type": "execute_result"
    }
   ],
   "source": [
    "# train the regressor on X and y\n",
    "lr.fit(X,y)"
   ]
  },
  {
   "cell_type": "code",
   "execution_count": 150,
   "metadata": {},
   "outputs": [
    {
     "name": "stdout",
     "output_type": "stream",
     "text": [
      "-124778701696.41547\n",
      "93890100.76729567\n",
      "4352251616.858018\n"
     ]
    }
   ],
   "source": [
    "# print out the learned intercept and coefficients\n",
    "print(lr.intercept_)\n",
    "print(lr.coef_[0])\n",
    "print(lr.coef_[1])"
   ]
  },
  {
   "cell_type": "code",
   "execution_count": 151,
   "metadata": {},
   "outputs": [],
   "source": [
    "# we can use this mask to easily index into our dataset\n",
    "country_mask = (df_country.country_code == 'CAN').values"
   ]
  },
  {
   "cell_type": "code",
   "execution_count": 152,
   "metadata": {},
   "outputs": [
    {
     "data": {
      "text/plain": [
       "32   -1.468798e+12\n",
       "Name: gdp, dtype: float64"
      ]
     },
     "execution_count": 152,
     "metadata": {},
     "output_type": "execute_result"
    }
   ],
   "source": [
    "# how far off is our model's prediction for Canada's gdp (country_code CAN) from it's actual gdp?\n",
    "lr.predict(X[country_mask]) -df_country[country_mask]['gdp']"
   ]
  },
  {
   "cell_type": "code",
   "execution_count": 153,
   "metadata": {},
   "outputs": [],
   "source": [
    "# create a new training set X that, in addition to population_density and access_to_electricity,\n",
    "# also includes the region_* dummies\n",
    "X = df_country[['population_density','access_to_electricity','region_europe','region_latin_america_and_caribbean',\n",
    "           'region_middle_east_and_north_africa','region_north_america','region_south_asia',\n",
    "           'region_subsaharan_africa']].values"
   ]
  },
  {
   "cell_type": "code",
   "execution_count": 154,
   "metadata": {},
   "outputs": [],
   "source": [
    "# instantiate a new model and train, with fit_intercept=False\n",
    "lr = LinearRegression(fit_intercept=False).fit(X,y)"
   ]
  },
  {
   "cell_type": "code",
   "execution_count": 155,
   "metadata": {},
   "outputs": [
    {
     "data": {
      "text/plain": [
       "32   -5.300059e+11\n",
       "Name: gdp, dtype: float64"
      ]
     },
     "execution_count": 155,
     "metadata": {},
     "output_type": "execute_result"
    }
   ],
   "source": [
    "# did the prediction for CAN improve?\n",
    "lr.predict(X[country_mask]) -df_country[country_mask]['gdp']"
   ]
  }
 ],
 "metadata": {
  "kernelspec": {
   "display_name": "Python 3",
   "language": "python",
   "name": "python3"
  },
  "language_info": {
   "codemirror_mode": {
    "name": "ipython",
    "version": 3
   },
   "file_extension": ".py",
   "mimetype": "text/x-python",
   "name": "python",
   "nbconvert_exporter": "python",
   "pygments_lexer": "ipython3",
   "version": "3.6.5"
  }
 },
 "nbformat": 4,
 "nbformat_minor": 2
}
