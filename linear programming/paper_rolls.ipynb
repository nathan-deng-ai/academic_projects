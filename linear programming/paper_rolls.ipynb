{
 "cells": [
  {
   "cell_type": "code",
   "execution_count": 13,
   "metadata": {},
   "outputs": [
    {
     "data": {
      "text/plain": [
       "1"
      ]
     },
     "execution_count": 13,
     "metadata": {},
     "output_type": "execute_result"
    }
   ],
   "source": [
    "## import PuLP\n",
    "from pulp import *\n",
    "\n",
    "# Create the 'prob' variable to contain the problem data\n",
    "prob = LpProblem(\"Let's cut some rolls\", LpMinimize)\n",
    "\n",
    "# Create problem variables\n",
    "## Goal = 97 rolls of 135cm, 610rolls of 108cm, 395 rolls of 93cm, 211 rolls of 42cm\n",
    "x1=LpVariable(\"one_135cm\",0,None,LpInteger)\n",
    "x2=LpVariable(\"two_135cms\",0, None, LpInteger)\n",
    "x3=LpVariable(\"one_108cm\",0, None, LpInteger)\n",
    "x4=LpVariable(\"two_108cm\",0, None, LpInteger)\n",
    "x5=LpVariable(\"one_93cm\",0, None, LpInteger)\n",
    "x6=LpVariable(\"two_93cms\",0,None,LpInteger)\n",
    "x7=LpVariable(\"three_93cms\",0, None, LpInteger)\n",
    "x8=LpVariable(\"one_42cm\",0, None, LpInteger)\n",
    "x9=LpVariable(\"two_42cms\",0, None, LpInteger)\n",
    "x10=LpVariable(\"three_42cms\",0, None, LpInteger)\n",
    "x11=LpVariable(\"four_42cms\",0,None,LpInteger)\n",
    "x12=LpVariable(\"five_42cms\",0, None, LpInteger)\n",
    "x13=LpVariable(\"six_42cms\",0, None, LpInteger)\n",
    "x14=LpVariable(\"seven_42cms\",0, None, LpInteger)\n",
    "x15=LpVariable(\"one_135cm_one_108cm\",0, None, LpInteger)\n",
    "x16=LpVariable(\"one_135cm_one_108cm_one_42cm\",0,None,LpInteger)\n",
    "x17=LpVariable(\"one_135cm_one_93cm\",0, None, LpInteger)\n",
    "x18=LpVariable(\"one_135cm_one_93cm_one_42cm\",0, None, LpInteger)\n",
    "x19=LpVariable(\"one_135cm_one_42cm\",0, None, LpInteger)\n",
    "x20=LpVariable(\"one_135cm_two_42cms\",0, None, LpInteger)\n",
    "x21=LpVariable(\"one_135cm_three_42cms\",0,None,LpInteger)\n",
    "x22=LpVariable(\"one_108cm_one_93cm\",0, None, LpInteger)\n",
    "x23=LpVariable(\"one_108cm_two_93cms\",0, None, LpInteger)\n",
    "x24=LpVariable(\"one_108cm_one_93cm_one_42cm\",0, None, LpInteger)\n",
    "x25=LpVariable(\"one_108cm_one_93cm_two_42cms\",0, None, LpInteger)\n",
    "x26=LpVariable(\"one_108cm_one_42cm\",0,None,LpInteger)\n",
    "x27=LpVariable(\"one_108cm_two_42cms\",0, None, LpInteger)\n",
    "x28=LpVariable(\"one_108cm_three_42cms\",0, None, LpInteger)\n",
    "x29=LpVariable(\"one_108cm_four_42cms\",0, None, LpInteger)\n",
    "x30=LpVariable(\"two_108cms_one_42cm\",0, None, LpInteger)\n",
    "x31=LpVariable(\"two_108cms_two_42cms\",0, None, LpInteger)\n",
    "x32=LpVariable(\"one_93cm_one_42cm\",0, None, LpInteger)\n",
    "x33=LpVariable(\"one_93cm_two_42cms\",0,None,LpInteger)\n",
    "x34=LpVariable(\"one_93cm_three_42cms\",0, None, LpInteger)\n",
    "x35=LpVariable(\"one_93cm_four_42_cms\",0, None, LpInteger)\n",
    "x36=LpVariable(\"two_93cms_one_42cm\",0, None, LpInteger)\n",
    "x37=LpVariable(\"two_93cms_two_42cms\",0, None, LpInteger)\n",
    "\n",
    "\n",
    "# The objective function is added to 'prob' first, minimize sum of all the variables\n",
    "prob += x1+x2+x3+x4+x5+x6+x7+x8+x9+x10+x11+x12+x13+x14+x15+x16+x17+x18+\\\n",
    "x19+x20+x21+x22+x23+x24+x25+x26+x27+x28+x29+x30+x31+x32+x33+x34+x35+x36+x37, \"min\"\n",
    "# Demand constraints \n",
    "prob += x1 + 2*x2+ x15+x16+x17+x18+x19+x20+x21 ==97, \"Roll 1 Demand\"\n",
    "prob += x3+  2*x4+ x14+x15+x16+x22+x23+x24+x25+x26+x27+x28+x29 +2*x30+ 2*x31 ==610, \"Roll 2 Demand\"\n",
    "prob += x5+2*x6+3*x7+ x17+x18+x22+2*x23+x24+x25+x32+x33+x34+x35+2*x36+2*x37 ==305, \"Roll 3 Demand\"\n",
    "prob += x8+2*x9+3*x10+4*x11+5*x12+6*x13+7*x14 + x16+x18+x19+2*x20+3*x21+x24+2*x25+\\\n",
    "x26+2*x27+3*x28+4*x29+x30+2*x31+x32+2*x33+3*x34+4*x35+x36+2*x37 ==211, \"Roll 4 Demand\"\n",
    "        \n",
    "# The problem data is written to an .lp file\n",
    "prob.writeLP(\"Cut_Paper.lp\")\n",
    "\n",
    "# The problem is solved using PuLP's choice of Solver\n",
    "prob.solve()"
   ]
  },
  {
   "cell_type": "code",
   "execution_count": 14,
   "metadata": {},
   "outputs": [
    {
     "name": "stdout",
     "output_type": "stream",
     "text": [
      "('Status:', 'Optimal')\n",
      "('five_42cms', '=', 0.0)\n",
      "('four_42cms', '=', 0.0)\n",
      "('one_108cm', '=', 0.0)\n",
      "('one_108cm_four_42cms', '=', 0.0)\n",
      "('one_108cm_one_42cm', '=', 0.0)\n",
      "('one_108cm_one_93cm', '=', 0.0)\n",
      "('one_108cm_one_93cm_one_42cm', '=', 0.0)\n",
      "('one_108cm_one_93cm_two_42cms', '=', 0.0)\n",
      "('one_108cm_three_42cms', '=', 0.0)\n",
      "('one_108cm_two_42cms', '=', 0.0)\n",
      "('one_108cm_two_93cms', '=', 151.0)\n",
      "('one_135cm', '=', 0.0)\n",
      "('one_135cm_one_108cm', '=', 0.0)\n",
      "('one_135cm_one_108cm_one_42cm', '=', 1.0)\n",
      "('one_135cm_one_42cm', '=', 0.0)\n",
      "('one_135cm_one_93cm', '=', 0.0)\n",
      "('one_135cm_one_93cm_one_42cm', '=', 0.0)\n",
      "('one_135cm_three_42cms', '=', 0.0)\n",
      "('one_135cm_two_42cms', '=', 0.0)\n",
      "('one_42cm', '=', 0.0)\n",
      "('one_93cm', '=', 0.0)\n",
      "('one_93cm_four_42_cms', '=', 0.0)\n",
      "('one_93cm_one_42cm', '=', 0.0)\n",
      "('one_93cm_three_42cms', '=', 0.0)\n",
      "('one_93cm_two_42cms', '=', 0.0)\n",
      "('seven_42cms', '=', 0.0)\n",
      "('six_42cms', '=', 0.0)\n",
      "('three_42cms', '=', 0.0)\n",
      "('three_93cms', '=', 1.0)\n",
      "('two_108cm', '=', 124.0)\n",
      "('two_108cms_one_42cm', '=', 0.0)\n",
      "('two_108cms_two_42cms', '=', 105.0)\n",
      "('two_135cms', '=', 48.0)\n",
      "('two_42cms', '=', 0.0)\n",
      "('two_93cms', '=', 0.0)\n",
      "('two_93cms_one_42cm', '=', 0.0)\n",
      "('two_93cms_two_42cms', '=', 0.0)\n",
      "('Total rolls needed = ', 430.0)\n"
     ]
    }
   ],
   "source": [
    "# The status of the solution is printed to the screen\n",
    "print(\"Status:\", LpStatus[prob.status])\n",
    "\n",
    "# Each of the variables is printed with it's resolved optimum value\n",
    "for v in prob.variables():\n",
    "    print(v.name, \"=\", v.varValue)\n",
    "\n",
    "# The optimised objective function value is printed to the screen\n",
    "print(\"Total rolls needed = \", value(prob.objective))"
   ]
  }
 ],
 "metadata": {
  "kernelspec": {
   "display_name": "Python 2",
   "language": "python",
   "name": "python2"
  },
  "language_info": {
   "codemirror_mode": {
    "name": "ipython",
    "version": 2
   },
   "file_extension": ".py",
   "mimetype": "text/x-python",
   "name": "python",
   "nbconvert_exporter": "python",
   "pygments_lexer": "ipython2",
   "version": "2.7.15"
  }
 },
 "nbformat": 4,
 "nbformat_minor": 2
}
