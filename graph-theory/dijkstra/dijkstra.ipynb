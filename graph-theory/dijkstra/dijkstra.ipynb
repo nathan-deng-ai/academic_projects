{
 "cells": [
  {
   "cell_type": "markdown",
   "metadata": {},
   "source": [
    "# Connected Components\n",
    "\n",
    "The purpose of this assignment is to familiarize yourself with the handling of graph data structures. You will implement depth-first search for identifying the connected components of an undirected graph, implementing procedure Search as a subroutine along the way.\n",
    "\n",
    "You will use the [NetworkX](https://networkx.github.io/) Python package to represent and manipulate graphs. You should first familiarize yourself with its functionality by going through the brief [tutorial](http://networkx.github.io/documentation/networkx-1.9.1/tutorial/index.html). For this homework, you may only use the basic undirected graph methods listed [here](http://networkx.github.io/documentation/networkx-1.9.1/reference/classes.graph.html).\n",
    "\n",
    "As a use case, we will work with a dataset recording the interactions between characters in Homer's *Iliad*."
   ]
  },
  {
   "cell_type": "markdown",
   "metadata": {},
   "source": [
    "The following code should now correctly create the graph."
   ]
  },
  {
   "cell_type": "code",
   "execution_count": 6,
   "metadata": {},
   "outputs": [],
   "source": [
    "import networkx as nx\n",
    "import matplotlib as plt\n",
    "import numpy as np\n",
    "G = nx.DiGraph()\n",
    "G.add_nodes_from([1,2,3,4,5,6,7,8])\n",
    "G.add_edges_from([(1,2,{'weight':1}),(1,3,{'weight':2}),(1,6,{'weight':1}),(1,7,{'weight':4}),(2,4,{'weight':2}) ,\n",
    "                 (2,3,{'weight':1}),(3,5,{'weight':3}),(4,8,{'weight':3}),(5,8,{'weight':1}),(6,8,{'weight':10}),\n",
    "                 (7,8,{'weight':1})])"
   ]
  },
  {
   "cell_type": "code",
   "execution_count": 13,
   "metadata": {},
   "outputs": [
    {
     "data": {
      "image/png": "[encoded data removed]",
      "text/plain": [
       "<Figure size 432x288 with 1 Axes>"
      ]
     },
     "metadata": {},
     "output_type": "display_data"
    }
   ],
   "source": [
    "nx.draw(G, with_labels=True)"
   ]
  },
  {
   "cell_type": "code",
   "execution_count": 56,
   "metadata": {},
   "outputs": [],
   "source": [
    "def dijkstra_shortest_edges(graph, start, end):\n",
    "    # TODO: implement function\n",
    "    all_nodes = G.nodes().keys()\n",
    "    \n",
    "    ###value will store previous node, cost to get to that node and how many edges it took to get to that node\n",
    "    d = {'key':'value'}\n",
    "    ###S contains nodes that we have added into our shortest path set\n",
    "    S = []\n",
    "    S.append(start)\n",
    "    \n",
    "    ###initialize \n",
    "    d[start] = [None,0,0]\n",
    "    while len(S) != len(all_nodes):\n",
    "        if(d.get(end) is not None):\n",
    "            break\n",
    "        ####check the nodes in S and its neighbors\n",
    "        min_u = np.inf\n",
    "        min_node = None\n",
    "        source = None\n",
    "        for u in S:\n",
    "            for v in graph[u]:\n",
    "                if d.get(v) is not None:\n",
    "                    continue\n",
    "                #### calculate costs and if there is a lesser cost vertice to go to, then go to that one\n",
    "                if (d.get(u)[1] +graph[u][v]['weight']) < min_u:\n",
    "                    min_u = d.get(u)[1]+graph[u][v]['weight']\n",
    "                    source = u\n",
    "                    min_node = v\n",
    "                    min_edges = d.get(u)[2]\n",
    "                ### if we find a vertice that can get to the min_u and min_node at lesser steps, then take that one\n",
    "                if ((d.get(u)[1] +graph[u][v]['weight']) == min_u & d.get(u)[2] < min_edges):\n",
    "                    source = u\n",
    "                    min_node = v\n",
    "                    min_edges = d.get(u)[2]\n",
    "\n",
    "        d[min_node]= [source,min_u,min_edges+1]\n",
    "        S.append(min_node)\n",
    "    return reconcile_shortest_path(d,end)"
   ]
  },
  {
   "cell_type": "code",
   "execution_count": 50,
   "metadata": {},
   "outputs": [],
   "source": [
    "def reconcile_shortest_path(D,node):\n",
    "    if D.get(node)[0] is None: \n",
    "        print(node)\n",
    "    else: \n",
    "        print(node)\n",
    "        reconcile_shortest_path(D,D.get(node)[0])"
   ]
  },
  {
   "cell_type": "code",
   "execution_count": 44,
   "metadata": {},
   "outputs": [
    {
     "ename": "TypeError",
     "evalue": "reconcile_shortest_path() takes exactly 2 arguments (0 given)",
     "output_type": "error",
     "traceback": [
      "\u001b[1;31m\u001b[0m",
      "\u001b[1;31mTypeError\u001b[0mTraceback (most recent call last)",
      "\u001b[1;32m<ipython-input-44-11ed901255f7>\u001b[0m in \u001b[0;36m<module>\u001b[1;34m()\u001b[0m\n\u001b[1;32m----> 1\u001b[1;33m \u001b[0mreconcile_shortest_path\u001b[0m\u001b[1;33m(\u001b[0m\u001b[1;33m)\u001b[0m\u001b[1;33m\u001b[0m\u001b[0m\n\u001b[0m",
      "\u001b[1;31mTypeError\u001b[0m: reconcile_shortest_path() takes exactly 2 arguments (0 given)"
     ]
    }
   ],
   "source": [
    "reconcile_shortest_path()"
   ]
  },
  {
   "cell_type": "code",
   "execution_count": 57,
   "metadata": {},
   "outputs": [
    {
     "name": "stdout",
     "output_type": "stream",
     "text": [
      "8\n",
      "7\n",
      "1\n"
     ]
    }
   ],
   "source": [
    "dijkstra_shortest_edges(G, 1, 8)"
   ]
  }
 ],
 "metadata": {
  "kernelspec": {
   "display_name": "Python 2",
   "language": "python",
   "name": "python2"
  },
  "language_info": {
   "codemirror_mode": {
    "name": "ipython",
    "version": 2
   },
   "file_extension": ".py",
   "mimetype": "text/x-python",
   "name": "python",
   "nbconvert_exporter": "python",
   "pygments_lexer": "ipython2",
   "version": "2.7.14"
  }
 },
 "nbformat": 4,
 "nbformat_minor": 1
}
