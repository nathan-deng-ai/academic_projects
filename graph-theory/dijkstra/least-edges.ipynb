{
 "cells": [
  {
   "cell_type": "code",
   "execution_count": 3,
   "metadata": {},
   "outputs": [],
   "source": [
    "from IPython.display import Image"
   ]
  },
  {
   "cell_type": "markdown",
   "metadata": {},
   "source": [
    "Graph structures are often used in many practical applications such finding the degree of separation between persons in a social network among others. When analyzing these graphs, Dijkstra's algorithm is commonly used to find the shortest distance between two persons. Algorithm is an example of a greedy algorithm, where in each step, we keep a set of discovered nodes, starting from the starting node, and add another node into the set of nodes by choosing an edge with the least cost that extends from the set. A useful spin on this algorithm can not only find the shortest path but also the path with the least number of edges. Below is an implementation of such algorithm. \n",
    "\n",
    "    V = {nodes}\n",
    "\tS = {start} \n",
    "\tWhile  S≠V\n",
    "\t\tFor every x ∈V-S with at least one edge from S compute\n",
    "\t\t\td(x) = min┬(u∈S,(u,x)∈E)⁡〖{dist[u]+w_ux}〗\n",
    "\t\t\te(x) = min┬(u∈S,(u,x)∈E)⁡〖{edges[u]+1}〗\n",
    "\t\tSelect v such that d(v) = min┬(x∈V-S)⁡〖{d(x)〗} \n",
    "        Amongst those v with equal d(x), choose  e(v) = min┬(x∈V-S)⁡〖{e(x)〗} \n",
    "\t\tdist[v] = d(v)\n",
    "\t\tedges[v] = e(v)\n",
    "\t\tprev[v] = u \n",
    "\tend while \n",
    "\n",
    "Once we determine that next node to add is the destination node, instead of using the most immediate edge that leads to it, we find all the other edges with equal cost and then choose the path with least number of edges. We can resolve the least number of edges by tracking in each step the shortest number of edges it takes to lead to each node in the path. This implementation is correct because all shortest paths that lead to destination must come from the same while loop iteration. Otherwise, algorithm would have added the node in previous while loop steps, leading to contradiction. Below is an implementation in python."
   ]
  },
  {
   "cell_type": "code",
   "execution_count": null,
   "metadata": {},
   "outputs": [],
   "source": [
    "def dijkstra_shortest_edges(graph, start, end):\n",
    "    # TODO: implement function\n",
    "    all_nodes = G.nodes().keys()\n",
    "    \n",
    "    ###value will store previous node, cost to get to that node and how many edges it took to get to that node\n",
    "    d = {'key':'value'}\n",
    "    ###S contains nodes that we have added into our shortest path set\n",
    "    S = []\n",
    "    S.append(start)\n",
    "    \n",
    "    ###initialize \n",
    "    d[start] = [None,0,0]\n",
    "    while len(S) != len(all_nodes):\n",
    "        if(d.get(end) is not None):\n",
    "            break\n",
    "        ####check the nodes in S and its neighbors\n",
    "        min_u = np.inf\n",
    "        min_node = None\n",
    "        source = None\n",
    "        for u in S:\n",
    "            for v in graph[u]:\n",
    "                if d.get(v) is not None:\n",
    "                    continue\n",
    "                #### calculate costs and if there is a lesser cost vertice to go to, then go to that one\n",
    "                if (d.get(u)[1] +graph[u][v]['weight']) < min_u:\n",
    "                    min_u = d.get(u)[1]+graph[u][v]['weight']\n",
    "                    source = u\n",
    "                    min_node = v\n",
    "                    min_edges = d.get(u)[2]\n",
    "                ### if we find a vertice that can get to the min_u and min_node at lesser steps, then take that one\n",
    "                if ((d.get(u)[1] +graph[u][v]['weight']) == min_u & d.get(u)[2] < min_edges):\n",
    "                    source = u\n",
    "                    min_node = v\n",
    "                    min_edges = d.get(u)[2]\n",
    "\n",
    "        d[min_node]= [source,min_u,min_edges+1]\n",
    "        S.append(min_node)\n",
    "    return reconcile_shortest_path(d,end)"
   ]
  },
  {
   "cell_type": "code",
   "execution_count": null,
   "metadata": {},
   "outputs": [],
   "source": [
    "def reconcile_shortest_path(D,node):\n",
    "    if D.get(node)[0] is None: \n",
    "        print(node)\n",
    "    else: \n",
    "        print(node)\n",
    "        reconcile_shortest_path(D,D.get(node)[0])"
   ]
  },
  {
   "cell_type": "markdown",
   "metadata": {},
   "source": [
    "Github directory for the project: https://github.com/yjs1210/academic_projects/blob/master/depth-first-search/dijkstra.ipynb"
   ]
  }
 ],
 "metadata": {
  "kernelspec": {
   "display_name": "Python 2",
   "language": "python",
   "name": "python2"
  },
  "language_info": {
   "codemirror_mode": {
    "name": "ipython",
    "version": 2
   },
   "file_extension": ".py",
   "mimetype": "text/x-python",
   "name": "python",
   "nbconvert_exporter": "python",
   "pygments_lexer": "ipython2",
   "version": "2.7.15"
  }
 },
 "nbformat": 4,
 "nbformat_minor": 2
}
