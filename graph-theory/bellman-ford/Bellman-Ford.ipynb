{
 "cells": [
  {
   "cell_type": "code",
   "execution_count": 237,
   "metadata": {},
   "outputs": [],
   "source": [
    "import networkx as nx\n",
    "import matplotlib.pyplot as plt\n",
    "import numpy as np"
   ]
  },
  {
   "cell_type": "code",
   "execution_count": 238,
   "metadata": {},
   "outputs": [],
   "source": [
    "##find shortest paths from source\n",
    "def bellman_ford(graph, source):\n",
    "    d = {} #destination\n",
    "    o = {} #origin, node where the path came from \n",
    "    for node in graph:\n",
    "        d[node] = np.inf #initialize to infinites\n",
    "        o[node] = None #to backtrack the path\n",
    "    d[source] = 0\n",
    "    for i in range(len(graph)-1): \n",
    "        for u in graph:\n",
    "            ###iterate through all the neighbors\n",
    "            for v in graph[u]: \n",
    "                if d[v] > d[u] + graph[u][v]['weight']:\n",
    "                    d[v] = d[u] + graph[u][v]['weight']\n",
    "                    o[v] = u\n",
    "                    \n",
    "    return d, o"
   ]
  },
  {
   "cell_type": "code",
   "execution_count": 246,
   "metadata": {
    "code_folding": []
   },
   "outputs": [],
   "source": [
    "def detect_negative_cycles(d, graph):\n",
    "    for u in graph:\n",
    "        for v in graph[u]:\n",
    "            if (d[v] > d[u] + graph[u][v]['weight']):\n",
    "                print('negative cycle exists in ', u, ' to ' ,v)"
   ]
  },
  {
   "cell_type": "code",
   "execution_count": 247,
   "metadata": {},
   "outputs": [],
   "source": [
    "###TO DO - make this more robust\n",
    "def create_graph():\n",
    "    G = nx.DiGraph()\n",
    "    G.add_nodes_from(['EUR','USD','CAD'])\n",
    "    G.add_edges_from([('EUR','USD',{'weight':-np.log(1/.741)}),('EUR','CAD',{'weight':-np.log(1.366)}),\n",
    "                      ('USD','EUR',{'weight':-np.log(.741)}),('USD','CAD',{'weight':-np.log(1/.995)}),\n",
    "                      ('CAD','EUR',{'weight':-np.log(1/1.366)}),('CAD','USD',{'weight':-np.log(.995)})])\n",
    "    return G"
   ]
  },
  {
   "cell_type": "code",
   "execution_count": 266,
   "metadata": {},
   "outputs": [],
   "source": [
    "G=create_graph()"
   ]
  },
  {
   "cell_type": "code",
   "execution_count": 267,
   "metadata": {},
   "outputs": [],
   "source": [
    "destination, origin = bellman_ford(G,'USD')"
   ]
  },
  {
   "cell_type": "code",
   "execution_count": 268,
   "metadata": {
    "scrolled": false
   },
   "outputs": [
    {
     "name": "stdout",
     "output_type": "stream",
     "text": [
      "('negative cycle exists in ', 'USD', ' to ', 'EUR')\n"
     ]
    }
   ],
   "source": [
    "detect_negative_cycles(destination, G)"
   ]
  }
 ],
 "metadata": {
  "kernelspec": {
   "display_name": "Python 2",
   "language": "python",
   "name": "python2"
  },
  "language_info": {
   "codemirror_mode": {
    "name": "ipython",
    "version": 2
   },
   "file_extension": ".py",
   "mimetype": "text/x-python",
   "name": "python",
   "nbconvert_exporter": "python",
   "pygments_lexer": "ipython2",
   "version": "2.7.14"
  }
 },
 "nbformat": 4,
 "nbformat_minor": 2
}
