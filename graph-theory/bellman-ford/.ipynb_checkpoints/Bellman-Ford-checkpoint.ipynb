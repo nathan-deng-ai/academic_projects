{
 "cells": [
  {
   "cell_type": "code",
   "execution_count": 12,
   "metadata": {},
   "outputs": [],
   "source": [
    "import networkx as nx\n",
    "import matplotlib.pyplot as plt\n",
    "import numpy as np"
   ]
  },
  {
   "cell_type": "code",
   "execution_count": 8,
   "metadata": {},
   "outputs": [],
   "source": [
    "def bellman_ford(graph, source):\n",
    "    d = {} #destination\n",
    "    o = {} #origin, node where the path came from \n",
    "    for node in graph:\n",
    "        d[node] = np.inf #initialize to infinites\n",
    "        o[node] = None #to backtrack the path\n",
    "    d[source] = 0\n",
    "    \n",
    "    for i in range(len(graph)-1): \n",
    "        for u in graph:\n",
    "            ###iterate through all the neighbors\n",
    "            for v in graph[u]: \n",
    "                if d[neighbour] > d[node] + graph[node][neighbour]:\n",
    "                    d[neighbour]  = d[node] + graph[node][neighbour]\n",
    "                    o[neighbour] = node\n",
    "                    \n",
    "    return d, p"
   ]
  },
  {
   "cell_type": "code",
   "execution_count": 7,
   "metadata": {},
   "outputs": [],
   "source": [
    "def detect_negative_cycles(d, graph):\n",
    "    for u in graph:\n",
    "        for v in graph[u]:\n",
    "            if (d[v] <= d[u] + graph[u][v]):\n",
    "                print('negative cycle exists in ', u, ' to ' ,v)"
   ]
  },
  {
   "cell_type": "code",
   "execution_count": 14,
   "metadata": {},
   "outputs": [],
   "source": [
    "###TO DO - make this more robust\n",
    "def create_graph():\n",
    "    G = nx.DiGraph()\n",
    "    G.add_nodes_from([('EUR',{'pos':(1,1)}),('USD',{'pos':(0,0)}),('JPY',{'pos':(1,0)})])\n",
    "    G.add_edges_from([('EUR','USD',{'weight':1}),('EUR','JPY',{'weight':1}),\n",
    "                      ('USD','EUR',{'weight':1}),('USD','JPY',{'weight':1}),\n",
    "                      ('JPY','EUR',{'weight':.98}),('JPY','USD',{'weight':1})])\n",
    "    return G"
   ]
  },
  {
   "cell_type": "code",
   "execution_count": 15,
   "metadata": {},
   "outputs": [],
   "source": []
  },
  {
   "cell_type": "code",
   "execution_count": null,
   "metadata": {},
   "outputs": [],
   "source": []
  }
 ],
 "metadata": {
  "kernelspec": {
   "display_name": "Python 2",
   "language": "python",
   "name": "python2"
  },
  "language_info": {
   "codemirror_mode": {
    "name": "ipython",
    "version": 2
   },
   "file_extension": ".py",
   "mimetype": "text/x-python",
   "name": "python",
   "nbconvert_exporter": "python",
   "pygments_lexer": "ipython2",
   "version": "2.7.14"
  }
 },
 "nbformat": 4,
 "nbformat_minor": 2
}
