{
 "cells": [
  {
   "cell_type": "markdown",
   "metadata": {},
   "source": [
    "# Max Flow Applications\n",
    "\n",
    "The purpose of this assignment is to investigate applications of finding a Max Flow. The problem asks you to design and implement an algorithm for shipping a material between nodes with different supply and demand requirements.\n",
    "\n",
    "* Please write code *only* in the bodies of the two functions, that is, following the TODO comments.\n",
    "* Be careful not to use varibles defined outside of the functions.\n",
    "* Breaking the two above rules may lead to 0 grades."
   ]
  },
  {
   "cell_type": "markdown",
   "metadata": {},
   "source": [
    "## Movie distribution\n",
    "\n",
    "First solve Problem 2 from hw3-t. \n",
    "\n",
    "Now suppose a movie distributor would like to ship a copy of a film from CA to every other state. There are therefore 48 units to ship out of CA, and each other state receives 1 unit. \n",
    "\n",
    "The dataset contiguous-usa.dat lists the adjacent states in the US. Each line lists two adjacent states; thus AK and HI are omitted, but DC is included in the data. The following code reads in the graph of US states."
   ]
  },
  {
   "cell_type": "code",
   "execution_count": 1,
   "metadata": {},
   "outputs": [],
   "source": [
    "import networkx as nx\n",
    "G = nx.Graph()\n",
    "\n",
    "usa = open('contiguous-usa.dat')\n",
    "for line in usa:\n",
    "    s1, s2 = line.strip().split()\n",
    "    G.add_edge(s1, s2)"
   ]
  },
  {
   "cell_type": "markdown",
   "metadata": {},
   "source": [
    "We now encode the demands into the graph."
   ]
  },
  {
   "cell_type": "code",
   "execution_count": 2,
   "metadata": {},
   "outputs": [],
   "source": [
    "for state in G.nodes():\n",
    "    if state != 'CA':\n",
    "        G.node[state]['demand'] = 1\n",
    "G.node['CA']['demand'] = -48"
   ]
  },
  {
   "cell_type": "markdown",
   "metadata": {},
   "source": [
    "We will assign a uniform capacity of 16 to each edge. Since CA has only three adjacent states, this is the smallest possible uniform capacity that allows one to ship all 48 units out of CA. As we have created an undirected graph, and flows have directions, we first convert the graph to a directed graph."
   ]
  },
  {
   "cell_type": "code",
   "execution_count": 3,
   "metadata": {},
   "outputs": [],
   "source": [
    "G = nx.DiGraph(G)\n",
    "uniform_capacity = 16\n",
    "for (s1, s2) in G.edges():\n",
    "    G.edge[s1][s2]['capacity'] = uniform_capacity"
   ]
  },
  {
   "cell_type": "markdown",
   "metadata": {},
   "source": [
    "Complete the following function to implement your algorithm to find a flow with demands. Your function should work correctly for any input, not just the movie instance considered here. As always, you are encouraged to define auxiliary functions as needed for clarity."
   ]
  },
  {
   "cell_type": "code",
   "execution_count": 28,
   "metadata": {},
   "outputs": [],
   "source": [
    "###MAKE SURE NO OUTSIDE VARIABLES BEING USED\n",
    "\n",
    "def flow_with_demands(graph):\n",
    "    \"\"\"Computes a flow with demands over the given graph.\n",
    "    \n",
    "    Args:\n",
    "        graph: A directed graph with nodes annotated with 'demand' properties and edges annotated with 'capacity' \n",
    "            properties.\n",
    "        \n",
    "    Returns:\n",
    "        A dict of dicts containing the flow on each edge. For instance, flow[s1][s2] should provide the flow along\n",
    "        edge (s1, s2).\n",
    "        \n",
    "    Raises:\n",
    "        NetworkXUnfeasible: An error is thrown if there is no flow satisfying the demands.\n",
    "    \"\"\"\n",
    "    # TODO: Implement the function.\n",
    "    demand=nx.get_node_attributes(graph,'demand')\n",
    "    ##create a copy of a graph\n",
    "    G_temp = nx.DiGraph(graph)\n",
    "    G_temp.add_node('s')\n",
    "    G_temp.add_node('t')\n",
    "    ##connect sources to big source and sinks to big sink\n",
    "    for nodes in graph.nodes():\n",
    "        node_demand = demand[nodes]\n",
    "        if node_demand < 0 : \n",
    "            G_temp.add_edge('s',nodes,capacity=abs(node_demand))\n",
    "        if node_demand > 0 : \n",
    "            G_temp.add_edge(nodes,'t',capacity=abs(node_demand))\n",
    "            \n",
    "    ##initialize to zero, all the flows\n",
    "    flow = dict()\n",
    "    for nodes in G_temp.nodes():\n",
    "        temp = dict()\n",
    "        for key,value in G_temp[nodes].iteritems():\n",
    "            temp[key] = 0 \n",
    "        flow[nodes] = temp\n",
    "    \n",
    "    ##returns a residual graph of a graph\n",
    "    def residual(graph, flow, source):\n",
    "        G = nx.DiGraph()\n",
    "        ##adding nodes\n",
    "        for nodes in graph.nodes():\n",
    "            G.add_node(nodes)\n",
    "        visited = dict()\n",
    "        ##key exists if visited, value is origin\n",
    "        ##using BFS-like method to populate the edges starting from the source to avoid backwards edges\n",
    "        visited[source] = source\n",
    "        queue = []\n",
    "        queue.append(source)\n",
    "        ##adding edges, not including backwards edges\n",
    "        while ((len(queue)>0)):\n",
    "            visit = queue.pop(0)\n",
    "            for neighbor, capacity in graph[visit].iteritems():\n",
    "                ##not visited and has capacity across the path\n",
    "                if (neighbor not in visited):\n",
    "                    queue.append(neighbor)\n",
    "                    visited[neighbor] = visit     \n",
    "                ###add forward edges, capacity - flow\n",
    "                if (not G.has_edge(neighbor,visit)):\n",
    "                    G.add_edge(visit,neighbor,\n",
    "                               capacity = graph[visit][neighbor]['capacity'] - \\\n",
    "                                   flow[visit][neighbor],direction='forward')\n",
    "                    ##only if it has flow already, add backwards edges, -flow\n",
    "                    if flow[visit][neighbor] > 0: \n",
    "                        G.add_edge(neighbor,visit,\n",
    "                                   capacity = flow[visit][neighbor],direction='backward')\n",
    "        return G\n",
    "    \n",
    "    ###BFS search, terminates once sink is found \n",
    "    def BFS(graph, source, sink):\n",
    "        visited = dict()\n",
    "        ##key exists if visited, value is origin\n",
    "        visited[source] = source\n",
    "        #### Using list as a queue, NOTE O(N) access unlike actual queue but we can't import pacakages.\n",
    "        queue = []\n",
    "        queue.append(source)\n",
    "\n",
    "        ###while we have stuff in our queue\n",
    "        just_stop = False\n",
    "        while ((len(queue)>0) & (just_stop is False)):\n",
    "            visit = queue.pop(0)\n",
    "            for neighbor, capacity in graph[visit].iteritems():\n",
    "                ##found s-t path and is reachable i.e. has positive capacity \n",
    "                if (neighbor == sink) & (capacity['capacity']>0):\n",
    "                    visited[neighbor] = visit\n",
    "                    just_stop = True\n",
    "                    break\n",
    "                ##not visited and has capacity across the path\n",
    "                if (neighbor not in visited) &(capacity['capacity']>0):\n",
    "                    queue.append(neighbor)\n",
    "                    visited[neighbor] = visit     \n",
    "        return visited\n",
    "    \n",
    "    ##given BFS output, resolve path and minimum capacity\n",
    "    def resolve_path(graph,min_capacity, path, path_out,origin):\n",
    "        path_out.append(origin)\n",
    "        if path[origin]==origin:\n",
    "            return path_out, min_capacity \n",
    "        min_capacity = min(graph[path[origin]][origin]['capacity'],min_capacity)\n",
    "        return resolve_path(graph,min_capacity,path,path_out,path[origin])\n",
    "        \n",
    "    while True:\n",
    "        residual_graph = residual(G_temp,flow,'s')\n",
    "        s_t_path = BFS(residual_graph,'s','t')\n",
    "        if('t' in s_t_path):\n",
    "            ##resolve path \n",
    "            path,capacity= resolve_path(residual_graph,float('inf'),s_t_path,[],'t')\n",
    "            for idx in range(len(path)-1):\n",
    "                dest=path[idx]\n",
    "                org=path[idx+1]\n",
    "                if(residual_graph[org][dest]['direction']=='forward'):\n",
    "                    flow[org][dest] = flow[org][dest] + capacity\n",
    "                else:\n",
    "                    flow[org][dest] = flow[org][dest] - capacity\n",
    "        else: break \n",
    "    \n",
    "    ##delete big sink and big source\n",
    "    del flow['s']\n",
    "    for field in flow.keys():\n",
    "        if ('t' in flow[field]): del flow[field]['t']\n",
    "    \n",
    "    return flow"
   ]
  },
  {
   "cell_type": "markdown",
   "metadata": {},
   "source": [
    "To verify that your solution is correct, implement a function that computes the total flow into each node (which will be negative for supply nodes)."
   ]
  },
  {
   "cell_type": "code",
   "execution_count": 29,
   "metadata": {},
   "outputs": [],
   "source": [
    "def divergence(flow):\n",
    "    \"\"\"Computes the total flow into each node according to the given flow dict.\n",
    "    \n",
    "    Args:\n",
    "        flow: the flow dict recording flow between nodes.\n",
    "        \n",
    "    Returns:\n",
    "        A dict of the net flow into each node.\n",
    "    \"\"\"\n",
    "    # TODO: Implement the function.\n",
    "    d = dict()\n",
    "    ##init\n",
    "     \n",
    "    for state,neighbors in flow.iteritems():\n",
    "        for neighbor, flow_to in neighbors.iteritems():\n",
    "            if state not in d:\n",
    "                d[state] =0\n",
    "            if neighbor not in d:\n",
    "                d[neighbor] =0\n",
    "            ### add flows that come in and subtract flows that go out\n",
    "            d[neighbor]  = d[neighbor] +flow_to\n",
    "            d[state] = d[state] - flow_to\n",
    "    return d"
   ]
  },
  {
   "cell_type": "markdown",
   "metadata": {},
   "source": [
    "The following code performs a sanity check on your function (but does not completely confirm correctness)."
   ]
  },
  {
   "cell_type": "code",
   "execution_count": 30,
   "metadata": {},
   "outputs": [
    {
     "name": "stdout",
     "output_type": "stream",
     "text": [
      "Flow satisfies all demands: True\n"
     ]
    }
   ],
   "source": [
    "flow = flow_with_demands(G)\n",
    "div = divergence(flow)\n",
    "print \"Flow satisfies all demands:\", all(div[n] == G.node[n]['demand'] for n in G.nodes())"
   ]
  }
 ],
 "metadata": {
  "kernelspec": {
   "display_name": "Python 2",
   "language": "python",
   "name": "python2"
  },
  "language_info": {
   "codemirror_mode": {
    "name": "ipython",
    "version": 2
   },
   "file_extension": ".py",
   "mimetype": "text/x-python",
   "name": "python",
   "nbconvert_exporter": "python",
   "pygments_lexer": "ipython2",
   "version": "2.7.15"
  }
 },
 "nbformat": 4,
 "nbformat_minor": 1
}
