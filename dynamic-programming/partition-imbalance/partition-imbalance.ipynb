{
 "cells": [
  {
   "cell_type": "code",
   "execution_count": 402,
   "metadata": {},
   "outputs": [],
   "source": [
    "import numpy as np"
   ]
  },
  {
   "cell_type": "code",
   "execution_count": 403,
   "metadata": {},
   "outputs": [],
   "source": [
    "data = [5,10,25,40,20]\n",
    "k = 2 \n",
    "k, n = 2, 5;\n",
    "Matrix = [[[0,0] for x in range(n)] for y in range(k+1)] \n",
    "constant = sum(data)/(k+1)"
   ]
  },
  {
   "cell_type": "code",
   "execution_count": 404,
   "metadata": {},
   "outputs": [],
   "source": [
    "for i in range(0,n-k):\n",
    "    Matrix[0][i] = [abs(sum(data[0:(i+1)])-constant),0]"
   ]
  },
  {
   "cell_type": "code",
   "execution_count": 405,
   "metadata": {
    "code_folding": []
   },
   "outputs": [],
   "source": [
    "for i in range(1,k+1):\n",
    "        for j in range(i,n-k+i):\n",
    "            minima = np.inf\n",
    "            for x in range(i-1,j):\n",
    "                    if (max(Matrix[i-1][x][0] , abs(sum(data[Matrix[i-1][x][1]:(j+1)])-constant)) < minima):\n",
    "                        minima = max(Matrix[i-1][x][0] ,abs(sum(data[Matrix[i-1][x][1]:(j+1)])-constant))\n",
    "                        origin = x+1\n",
    "            Matrix[i][j] = [minima,origin]"
   ]
  },
  {
   "cell_type": "code",
   "execution_count": 406,
   "metadata": {},
   "outputs": [
    {
     "data": {
      "text/plain": [
       "[[[28, 0], [18, 0], [7, 0], [0, 0], [0, 0]],\n",
       " [[0, 0], [28, 1], [18, 2], [47, 1], [0, 0]],\n",
       " [[0, 0], [0, 0], [28, 2], [32, 3], [52, 3]]]"
      ]
     },
     "execution_count": 406,
     "metadata": {},
     "output_type": "execute_result"
    }
   ],
   "source": [
    "Matrix"
   ]
  }
 ],
 "metadata": {
  "kernelspec": {
   "display_name": "Python 2",
   "language": "python",
   "name": "python2"
  },
  "language_info": {
   "codemirror_mode": {
    "name": "ipython",
    "version": 2
   },
   "file_extension": ".py",
   "mimetype": "text/x-python",
   "name": "python",
   "nbconvert_exporter": "python",
   "pygments_lexer": "ipython2",
   "version": "2.7.15"
  }
 },
 "nbformat": 4,
 "nbformat_minor": 2
}
