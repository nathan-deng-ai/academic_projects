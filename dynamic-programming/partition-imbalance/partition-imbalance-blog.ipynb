{
 "cells": [
  {
   "cell_type": "code",
   "execution_count": 3,
   "metadata": {},
   "outputs": [],
   "source": [
    "from IPython.display import Image"
   ]
  },
  {
   "cell_type": "markdown",
   "metadata": {},
   "source": [
    "Partitioning is a problem that often arises when working with data. For example, we may wonder how do we divide the data into groups so that each group has a similar total sum relative to all the other groups.  We can use dynamic programming to often solve problems of this nature where each computation step needs to consider multiple possibilities that led to that step. For example, what we decide to include in the first group of data has consequences to our determinations of data in future groups. Method aims to break the problem down into simpler sub-problems in a recursive manner. Suppose we have an array of length n and we want to partition this array into k+1 sub groups by making k cuts, we can define the imbalance of the partition with a function such as below we want to minimize. "
   ]
  },
  {
   "cell_type": "code",
   "execution_count": 4,
   "metadata": {},
   "outputs": [
    {
     "data": {
      "text/html": [
       "<img src=\"https://image.ibb.co/gSmS0q/Partition-Imbalance.png\"/>"
      ],
      "text/plain": [
       "<IPython.core.display.Image object>"
      ]
     },
     "execution_count": 4,
     "metadata": {},
     "output_type": "execute_result"
    }
   ],
   "source": [
    "Image(url= \"https://image.ibb.co/gSmS0q/Partition-Imbalance.png\")"
   ]
  },
  {
   "cell_type": "markdown",
   "metadata": {},
   "source": [
    "Where w(i) is a total sum of the data in partition i and the constant on the right side is an average of all the group's sums. To solve this problem using DP, we define,"
   ]
  },
  {
   "cell_type": "code",
   "execution_count": 5,
   "metadata": {},
   "outputs": [
    {
     "data": {
      "text/html": [
       "<img src=\"https://image.ibb.co/jqdkmV/OPT.png\"/>"
      ],
      "text/plain": [
       "<IPython.core.display.Image object>"
      ]
     },
     "execution_count": 5,
     "metadata": {},
     "output_type": "execute_result"
    }
   ],
   "source": [
    "Image(url= \"https://image.ibb.co/jqdkmV/OPT.png\")"
   ]
  },
  {
   "cell_type": "markdown",
   "metadata": {},
   "source": [
    "Essentially we solve the problem recursively from the right most hand side of the array, computing the imbalance of all the possible last groups, and then solving the subproblem excluding the data that would be included in the last group. We repeat this process until we recusively arrive to our base case. Below is an implementation in python for an array of length n and k cuts(k+1 groups)."
   ]
  },
  {
   "cell_type": "code",
   "execution_count": null,
   "metadata": {},
   "outputs": [],
   "source": [
    "for i in range(1,k+1):\n",
    "        for j in range(i,n-k+i):\n",
    "            minima = np.inf\n",
    "            for x in range(i-1,j):\n",
    "                    if (max(Matrix[i-1][x][0] , abs(sum(data[Matrix[i-1][x][1]:(j+1)])-constant)) < minima):\n",
    "                        minima = max(Matrix[i-1][x][0] ,abs(sum(data[Matrix[i-1][x][1]:(j+1)])-constant))\n",
    "                        origin = x+1\n",
    "            Matrix[i][j] = [minima,origin]"
   ]
  }
 ],
 "metadata": {
  "kernelspec": {
   "display_name": "Python 2",
   "language": "python",
   "name": "python2"
  },
  "language_info": {
   "codemirror_mode": {
    "name": "ipython",
    "version": 2
   },
   "file_extension": ".py",
   "mimetype": "text/x-python",
   "name": "python",
   "nbconvert_exporter": "python",
   "pygments_lexer": "ipython2",
   "version": "2.7.15"
  }
 },
 "nbformat": 4,
 "nbformat_minor": 2
}
